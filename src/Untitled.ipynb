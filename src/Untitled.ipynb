{
 "cells": [
  {
   "cell_type": "code",
   "execution_count": null,
   "id": "6fd3dbba-01e2-4609-a85f-afa853dfb5d9",
   "metadata": {},
   "outputs": [],
   "source": []
  },
  {
   "cell_type": "code",
   "execution_count": 1,
   "id": "200c9831-6286-4d4a-9d30-5e06701d550c",
   "metadata": {
    "execution": {
     "iopub.execute_input": "2024-09-27T12:31:19.425731Z",
     "iopub.status.busy": "2024-09-27T12:31:19.424950Z",
     "iopub.status.idle": "2024-09-27T12:31:19.434294Z",
     "shell.execute_reply": "2024-09-27T12:31:19.433339Z",
     "shell.execute_reply.started": "2024-09-27T12:31:19.425678Z"
    }
   },
   "outputs": [
    {
     "name": "stdout",
     "output_type": "stream",
     "text": [
      "the value of i -> 0\n",
      "the value of i -> 1\n",
      "the value of i -> 2\n",
      "the value of i -> 3\n",
      "the value of i -> 4\n",
      "the value of i -> 5\n",
      "the value of i -> 6\n",
      "the value of i -> 7\n",
      "the value of i -> 8\n",
      "the value of i -> 9\n"
     ]
    }
   ],
   "source": [
    "for i in range(10):\n",
    "    print(f\"the value of i -> {i}\")"
   ]
  },
  {
   "cell_type": "code",
   "execution_count": 2,
   "id": "c0346c04-fdf2-49c7-aae7-212e55826be2",
   "metadata": {
    "execution": {
     "iopub.execute_input": "2024-09-27T12:32:21.278452Z",
     "iopub.status.busy": "2024-09-27T12:32:21.277308Z",
     "iopub.status.idle": "2024-09-27T12:32:21.326966Z",
     "shell.execute_reply": "2024-09-27T12:32:21.326583Z",
     "shell.execute_reply.started": "2024-09-27T12:32:21.278387Z"
    }
   },
   "outputs": [],
   "source": [
    "from dataclasses import dataclass , field \n",
    "from rich.console import Console \n",
    "console = Console()\n"
   ]
  },
  {
   "cell_type": "code",
   "execution_count": 3,
   "id": "01cf3598-d994-4482-bd72-85b77c6d5585",
   "metadata": {
    "execution": {
     "iopub.execute_input": "2024-09-27T12:32:48.181561Z",
     "iopub.status.busy": "2024-09-27T12:32:48.180707Z",
     "iopub.status.idle": "2024-09-27T12:32:48.214518Z",
     "shell.execute_reply": "2024-09-27T12:32:48.214176Z",
     "shell.execute_reply.started": "2024-09-27T12:32:48.181503Z"
    }
   },
   "outputs": [
    {
     "data": {
      "text/html": [
       "<pre style=\"white-space:pre;overflow-x:auto;line-height:normal;font-family:Menlo,'DejaVu Sans Mono',consolas,'Courier New',monospace\"><span style=\"color: #7fbfbf; text-decoration-color: #7fbfbf\">[21:32:48] </span>The value of i -&gt;<span style=\"font-weight: bold\">{</span>i<span style=\"font-weight: bold\">}</span>                                                                     <a href=\"file:///var/folders/3j/p9vdk4jd065g5y416bvbj4fh0000gn/T/ipykernel_29399/3704256130.py\" target=\"_blank\"><span style=\"color: #7f7f7f; text-decoration-color: #7f7f7f\">3704256130.py</span></a><span style=\"color: #7f7f7f; text-decoration-color: #7f7f7f\">:</span><a href=\"file:///var/folders/3j/p9vdk4jd065g5y416bvbj4fh0000gn/T/ipykernel_29399/3704256130.py#2\" target=\"_blank\"><span style=\"color: #7f7f7f; text-decoration-color: #7f7f7f\">2</span></a>\n",
       "</pre>\n"
      ],
      "text/plain": [
       "\u001b[2;36m[21:32:48]\u001b[0m\u001b[2;36m \u001b[0mThe value of i ->\u001b[1m{\u001b[0mi\u001b[1m}\u001b[0m                                                                     \u001b]8;id=182390;file:///var/folders/3j/p9vdk4jd065g5y416bvbj4fh0000gn/T/ipykernel_29399/3704256130.py\u001b\\\u001b[2m3704256130.py\u001b[0m\u001b]8;;\u001b\\\u001b[2m:\u001b[0m\u001b]8;id=816137;file:///var/folders/3j/p9vdk4jd065g5y416bvbj4fh0000gn/T/ipykernel_29399/3704256130.py#2\u001b\\\u001b[2m2\u001b[0m\u001b]8;;\u001b\\\n"
      ]
     },
     "metadata": {},
     "output_type": "display_data"
    },
    {
     "data": {
      "text/html": [
       "<pre style=\"white-space:pre;overflow-x:auto;line-height:normal;font-family:Menlo,'DejaVu Sans Mono',consolas,'Courier New',monospace\"><span style=\"color: #7fbfbf; text-decoration-color: #7fbfbf\">           </span>The value of i -&gt;<span style=\"font-weight: bold\">{</span>i<span style=\"font-weight: bold\">}</span>                                                                     <a href=\"file:///var/folders/3j/p9vdk4jd065g5y416bvbj4fh0000gn/T/ipykernel_29399/3704256130.py\" target=\"_blank\"><span style=\"color: #7f7f7f; text-decoration-color: #7f7f7f\">3704256130.py</span></a><span style=\"color: #7f7f7f; text-decoration-color: #7f7f7f\">:</span><a href=\"file:///var/folders/3j/p9vdk4jd065g5y416bvbj4fh0000gn/T/ipykernel_29399/3704256130.py#2\" target=\"_blank\"><span style=\"color: #7f7f7f; text-decoration-color: #7f7f7f\">2</span></a>\n",
       "</pre>\n"
      ],
      "text/plain": [
       "\u001b[2;36m          \u001b[0m\u001b[2;36m \u001b[0mThe value of i ->\u001b[1m{\u001b[0mi\u001b[1m}\u001b[0m                                                                     \u001b]8;id=999928;file:///var/folders/3j/p9vdk4jd065g5y416bvbj4fh0000gn/T/ipykernel_29399/3704256130.py\u001b\\\u001b[2m3704256130.py\u001b[0m\u001b]8;;\u001b\\\u001b[2m:\u001b[0m\u001b]8;id=111304;file:///var/folders/3j/p9vdk4jd065g5y416bvbj4fh0000gn/T/ipykernel_29399/3704256130.py#2\u001b\\\u001b[2m2\u001b[0m\u001b]8;;\u001b\\\n"
      ]
     },
     "metadata": {},
     "output_type": "display_data"
    },
    {
     "data": {
      "text/html": [
       "<pre style=\"white-space:pre;overflow-x:auto;line-height:normal;font-family:Menlo,'DejaVu Sans Mono',consolas,'Courier New',monospace\"><span style=\"color: #7fbfbf; text-decoration-color: #7fbfbf\">           </span>The value of i -&gt;<span style=\"font-weight: bold\">{</span>i<span style=\"font-weight: bold\">}</span>                                                                     <a href=\"file:///var/folders/3j/p9vdk4jd065g5y416bvbj4fh0000gn/T/ipykernel_29399/3704256130.py\" target=\"_blank\"><span style=\"color: #7f7f7f; text-decoration-color: #7f7f7f\">3704256130.py</span></a><span style=\"color: #7f7f7f; text-decoration-color: #7f7f7f\">:</span><a href=\"file:///var/folders/3j/p9vdk4jd065g5y416bvbj4fh0000gn/T/ipykernel_29399/3704256130.py#2\" target=\"_blank\"><span style=\"color: #7f7f7f; text-decoration-color: #7f7f7f\">2</span></a>\n",
       "</pre>\n"
      ],
      "text/plain": [
       "\u001b[2;36m          \u001b[0m\u001b[2;36m \u001b[0mThe value of i ->\u001b[1m{\u001b[0mi\u001b[1m}\u001b[0m                                                                     \u001b]8;id=950154;file:///var/folders/3j/p9vdk4jd065g5y416bvbj4fh0000gn/T/ipykernel_29399/3704256130.py\u001b\\\u001b[2m3704256130.py\u001b[0m\u001b]8;;\u001b\\\u001b[2m:\u001b[0m\u001b]8;id=109938;file:///var/folders/3j/p9vdk4jd065g5y416bvbj4fh0000gn/T/ipykernel_29399/3704256130.py#2\u001b\\\u001b[2m2\u001b[0m\u001b]8;;\u001b\\\n"
      ]
     },
     "metadata": {},
     "output_type": "display_data"
    },
    {
     "data": {
      "text/html": [
       "<pre style=\"white-space:pre;overflow-x:auto;line-height:normal;font-family:Menlo,'DejaVu Sans Mono',consolas,'Courier New',monospace\"><span style=\"color: #7fbfbf; text-decoration-color: #7fbfbf\">           </span>The value of i -&gt;<span style=\"font-weight: bold\">{</span>i<span style=\"font-weight: bold\">}</span>                                                                     <a href=\"file:///var/folders/3j/p9vdk4jd065g5y416bvbj4fh0000gn/T/ipykernel_29399/3704256130.py\" target=\"_blank\"><span style=\"color: #7f7f7f; text-decoration-color: #7f7f7f\">3704256130.py</span></a><span style=\"color: #7f7f7f; text-decoration-color: #7f7f7f\">:</span><a href=\"file:///var/folders/3j/p9vdk4jd065g5y416bvbj4fh0000gn/T/ipykernel_29399/3704256130.py#2\" target=\"_blank\"><span style=\"color: #7f7f7f; text-decoration-color: #7f7f7f\">2</span></a>\n",
       "</pre>\n"
      ],
      "text/plain": [
       "\u001b[2;36m          \u001b[0m\u001b[2;36m \u001b[0mThe value of i ->\u001b[1m{\u001b[0mi\u001b[1m}\u001b[0m                                                                     \u001b]8;id=194115;file:///var/folders/3j/p9vdk4jd065g5y416bvbj4fh0000gn/T/ipykernel_29399/3704256130.py\u001b\\\u001b[2m3704256130.py\u001b[0m\u001b]8;;\u001b\\\u001b[2m:\u001b[0m\u001b]8;id=329;file:///var/folders/3j/p9vdk4jd065g5y416bvbj4fh0000gn/T/ipykernel_29399/3704256130.py#2\u001b\\\u001b[2m2\u001b[0m\u001b]8;;\u001b\\\n"
      ]
     },
     "metadata": {},
     "output_type": "display_data"
    },
    {
     "data": {
      "text/html": [
       "<pre style=\"white-space:pre;overflow-x:auto;line-height:normal;font-family:Menlo,'DejaVu Sans Mono',consolas,'Courier New',monospace\"><span style=\"color: #7fbfbf; text-decoration-color: #7fbfbf\">           </span>The value of i -&gt;<span style=\"font-weight: bold\">{</span>i<span style=\"font-weight: bold\">}</span>                                                                     <a href=\"file:///var/folders/3j/p9vdk4jd065g5y416bvbj4fh0000gn/T/ipykernel_29399/3704256130.py\" target=\"_blank\"><span style=\"color: #7f7f7f; text-decoration-color: #7f7f7f\">3704256130.py</span></a><span style=\"color: #7f7f7f; text-decoration-color: #7f7f7f\">:</span><a href=\"file:///var/folders/3j/p9vdk4jd065g5y416bvbj4fh0000gn/T/ipykernel_29399/3704256130.py#2\" target=\"_blank\"><span style=\"color: #7f7f7f; text-decoration-color: #7f7f7f\">2</span></a>\n",
       "</pre>\n"
      ],
      "text/plain": [
       "\u001b[2;36m          \u001b[0m\u001b[2;36m \u001b[0mThe value of i ->\u001b[1m{\u001b[0mi\u001b[1m}\u001b[0m                                                                     \u001b]8;id=246;file:///var/folders/3j/p9vdk4jd065g5y416bvbj4fh0000gn/T/ipykernel_29399/3704256130.py\u001b\\\u001b[2m3704256130.py\u001b[0m\u001b]8;;\u001b\\\u001b[2m:\u001b[0m\u001b]8;id=578561;file:///var/folders/3j/p9vdk4jd065g5y416bvbj4fh0000gn/T/ipykernel_29399/3704256130.py#2\u001b\\\u001b[2m2\u001b[0m\u001b]8;;\u001b\\\n"
      ]
     },
     "metadata": {},
     "output_type": "display_data"
    },
    {
     "data": {
      "text/html": [
       "<pre style=\"white-space:pre;overflow-x:auto;line-height:normal;font-family:Menlo,'DejaVu Sans Mono',consolas,'Courier New',monospace\"><span style=\"color: #7fbfbf; text-decoration-color: #7fbfbf\">           </span>The value of i -&gt;<span style=\"font-weight: bold\">{</span>i<span style=\"font-weight: bold\">}</span>                                                                     <a href=\"file:///var/folders/3j/p9vdk4jd065g5y416bvbj4fh0000gn/T/ipykernel_29399/3704256130.py\" target=\"_blank\"><span style=\"color: #7f7f7f; text-decoration-color: #7f7f7f\">3704256130.py</span></a><span style=\"color: #7f7f7f; text-decoration-color: #7f7f7f\">:</span><a href=\"file:///var/folders/3j/p9vdk4jd065g5y416bvbj4fh0000gn/T/ipykernel_29399/3704256130.py#2\" target=\"_blank\"><span style=\"color: #7f7f7f; text-decoration-color: #7f7f7f\">2</span></a>\n",
       "</pre>\n"
      ],
      "text/plain": [
       "\u001b[2;36m          \u001b[0m\u001b[2;36m \u001b[0mThe value of i ->\u001b[1m{\u001b[0mi\u001b[1m}\u001b[0m                                                                     \u001b]8;id=950450;file:///var/folders/3j/p9vdk4jd065g5y416bvbj4fh0000gn/T/ipykernel_29399/3704256130.py\u001b\\\u001b[2m3704256130.py\u001b[0m\u001b]8;;\u001b\\\u001b[2m:\u001b[0m\u001b]8;id=528864;file:///var/folders/3j/p9vdk4jd065g5y416bvbj4fh0000gn/T/ipykernel_29399/3704256130.py#2\u001b\\\u001b[2m2\u001b[0m\u001b]8;;\u001b\\\n"
      ]
     },
     "metadata": {},
     "output_type": "display_data"
    },
    {
     "data": {
      "text/html": [
       "<pre style=\"white-space:pre;overflow-x:auto;line-height:normal;font-family:Menlo,'DejaVu Sans Mono',consolas,'Courier New',monospace\"><span style=\"color: #7fbfbf; text-decoration-color: #7fbfbf\">           </span>The value of i -&gt;<span style=\"font-weight: bold\">{</span>i<span style=\"font-weight: bold\">}</span>                                                                     <a href=\"file:///var/folders/3j/p9vdk4jd065g5y416bvbj4fh0000gn/T/ipykernel_29399/3704256130.py\" target=\"_blank\"><span style=\"color: #7f7f7f; text-decoration-color: #7f7f7f\">3704256130.py</span></a><span style=\"color: #7f7f7f; text-decoration-color: #7f7f7f\">:</span><a href=\"file:///var/folders/3j/p9vdk4jd065g5y416bvbj4fh0000gn/T/ipykernel_29399/3704256130.py#2\" target=\"_blank\"><span style=\"color: #7f7f7f; text-decoration-color: #7f7f7f\">2</span></a>\n",
       "</pre>\n"
      ],
      "text/plain": [
       "\u001b[2;36m          \u001b[0m\u001b[2;36m \u001b[0mThe value of i ->\u001b[1m{\u001b[0mi\u001b[1m}\u001b[0m                                                                     \u001b]8;id=643181;file:///var/folders/3j/p9vdk4jd065g5y416bvbj4fh0000gn/T/ipykernel_29399/3704256130.py\u001b\\\u001b[2m3704256130.py\u001b[0m\u001b]8;;\u001b\\\u001b[2m:\u001b[0m\u001b]8;id=582613;file:///var/folders/3j/p9vdk4jd065g5y416bvbj4fh0000gn/T/ipykernel_29399/3704256130.py#2\u001b\\\u001b[2m2\u001b[0m\u001b]8;;\u001b\\\n"
      ]
     },
     "metadata": {},
     "output_type": "display_data"
    },
    {
     "data": {
      "text/html": [
       "<pre style=\"white-space:pre;overflow-x:auto;line-height:normal;font-family:Menlo,'DejaVu Sans Mono',consolas,'Courier New',monospace\"><span style=\"color: #7fbfbf; text-decoration-color: #7fbfbf\">           </span>The value of i -&gt;<span style=\"font-weight: bold\">{</span>i<span style=\"font-weight: bold\">}</span>                                                                     <a href=\"file:///var/folders/3j/p9vdk4jd065g5y416bvbj4fh0000gn/T/ipykernel_29399/3704256130.py\" target=\"_blank\"><span style=\"color: #7f7f7f; text-decoration-color: #7f7f7f\">3704256130.py</span></a><span style=\"color: #7f7f7f; text-decoration-color: #7f7f7f\">:</span><a href=\"file:///var/folders/3j/p9vdk4jd065g5y416bvbj4fh0000gn/T/ipykernel_29399/3704256130.py#2\" target=\"_blank\"><span style=\"color: #7f7f7f; text-decoration-color: #7f7f7f\">2</span></a>\n",
       "</pre>\n"
      ],
      "text/plain": [
       "\u001b[2;36m          \u001b[0m\u001b[2;36m \u001b[0mThe value of i ->\u001b[1m{\u001b[0mi\u001b[1m}\u001b[0m                                                                     \u001b]8;id=769843;file:///var/folders/3j/p9vdk4jd065g5y416bvbj4fh0000gn/T/ipykernel_29399/3704256130.py\u001b\\\u001b[2m3704256130.py\u001b[0m\u001b]8;;\u001b\\\u001b[2m:\u001b[0m\u001b]8;id=423142;file:///var/folders/3j/p9vdk4jd065g5y416bvbj4fh0000gn/T/ipykernel_29399/3704256130.py#2\u001b\\\u001b[2m2\u001b[0m\u001b]8;;\u001b\\\n"
      ]
     },
     "metadata": {},
     "output_type": "display_data"
    },
    {
     "data": {
      "text/html": [
       "<pre style=\"white-space:pre;overflow-x:auto;line-height:normal;font-family:Menlo,'DejaVu Sans Mono',consolas,'Courier New',monospace\"><span style=\"color: #7fbfbf; text-decoration-color: #7fbfbf\">           </span>The value of i -&gt;<span style=\"font-weight: bold\">{</span>i<span style=\"font-weight: bold\">}</span>                                                                     <a href=\"file:///var/folders/3j/p9vdk4jd065g5y416bvbj4fh0000gn/T/ipykernel_29399/3704256130.py\" target=\"_blank\"><span style=\"color: #7f7f7f; text-decoration-color: #7f7f7f\">3704256130.py</span></a><span style=\"color: #7f7f7f; text-decoration-color: #7f7f7f\">:</span><a href=\"file:///var/folders/3j/p9vdk4jd065g5y416bvbj4fh0000gn/T/ipykernel_29399/3704256130.py#2\" target=\"_blank\"><span style=\"color: #7f7f7f; text-decoration-color: #7f7f7f\">2</span></a>\n",
       "</pre>\n"
      ],
      "text/plain": [
       "\u001b[2;36m          \u001b[0m\u001b[2;36m \u001b[0mThe value of i ->\u001b[1m{\u001b[0mi\u001b[1m}\u001b[0m                                                                     \u001b]8;id=479477;file:///var/folders/3j/p9vdk4jd065g5y416bvbj4fh0000gn/T/ipykernel_29399/3704256130.py\u001b\\\u001b[2m3704256130.py\u001b[0m\u001b]8;;\u001b\\\u001b[2m:\u001b[0m\u001b]8;id=935560;file:///var/folders/3j/p9vdk4jd065g5y416bvbj4fh0000gn/T/ipykernel_29399/3704256130.py#2\u001b\\\u001b[2m2\u001b[0m\u001b]8;;\u001b\\\n"
      ]
     },
     "metadata": {},
     "output_type": "display_data"
    },
    {
     "data": {
      "text/html": [
       "<pre style=\"white-space:pre;overflow-x:auto;line-height:normal;font-family:Menlo,'DejaVu Sans Mono',consolas,'Courier New',monospace\"><span style=\"color: #7fbfbf; text-decoration-color: #7fbfbf\">           </span>The value of i -&gt;<span style=\"font-weight: bold\">{</span>i<span style=\"font-weight: bold\">}</span>                                                                     <a href=\"file:///var/folders/3j/p9vdk4jd065g5y416bvbj4fh0000gn/T/ipykernel_29399/3704256130.py\" target=\"_blank\"><span style=\"color: #7f7f7f; text-decoration-color: #7f7f7f\">3704256130.py</span></a><span style=\"color: #7f7f7f; text-decoration-color: #7f7f7f\">:</span><a href=\"file:///var/folders/3j/p9vdk4jd065g5y416bvbj4fh0000gn/T/ipykernel_29399/3704256130.py#2\" target=\"_blank\"><span style=\"color: #7f7f7f; text-decoration-color: #7f7f7f\">2</span></a>\n",
       "</pre>\n"
      ],
      "text/plain": [
       "\u001b[2;36m          \u001b[0m\u001b[2;36m \u001b[0mThe value of i ->\u001b[1m{\u001b[0mi\u001b[1m}\u001b[0m                                                                     \u001b]8;id=297182;file:///var/folders/3j/p9vdk4jd065g5y416bvbj4fh0000gn/T/ipykernel_29399/3704256130.py\u001b\\\u001b[2m3704256130.py\u001b[0m\u001b]8;;\u001b\\\u001b[2m:\u001b[0m\u001b]8;id=325323;file:///var/folders/3j/p9vdk4jd065g5y416bvbj4fh0000gn/T/ipykernel_29399/3704256130.py#2\u001b\\\u001b[2m2\u001b[0m\u001b]8;;\u001b\\\n"
      ]
     },
     "metadata": {},
     "output_type": "display_data"
    }
   ],
   "source": [
    "for i in range(10):\n",
    "    console.log(\"The value of i ->{i}\")"
   ]
  },
  {
   "cell_type": "code",
   "execution_count": null,
   "id": "0f7ffc2d-fe23-4aab-9388-834ca79bf008",
   "metadata": {},
   "outputs": [],
   "source": []
  },
  {
   "cell_type": "code",
   "execution_count": 2,
   "id": "07eb9c51-8da8-4f69-9100-59069a5a6ecc",
   "metadata": {
    "execution": {
     "iopub.execute_input": "2024-09-29T14:22:55.751217Z",
     "iopub.status.busy": "2024-09-29T14:22:55.750602Z",
     "iopub.status.idle": "2024-09-29T14:22:55.759276Z",
     "shell.execute_reply": "2024-09-29T14:22:55.758034Z",
     "shell.execute_reply.started": "2024-09-29T14:22:55.751185Z"
    }
   },
   "outputs": [],
   "source": [
    "def my_function():\n",
    "    for i in range(10):\n",
    "        print(f\"[ INFO ] the value of i is covered thorugh the -> {i}\")"
   ]
  },
  {
   "cell_type": "code",
   "execution_count": null,
   "id": "b6b9d123-8a0e-4d1a-a699-fdd8dc650083",
   "metadata": {},
   "outputs": [],
   "source": []
  },
  {
   "cell_type": "code",
   "execution_count": null,
   "id": "519631c8-c607-456a-acaa-8e4e807c4f7b",
   "metadata": {},
   "outputs": [],
   "source": []
  },
  {
   "cell_type": "code",
   "execution_count": null,
   "id": "d7d18951-e2e8-4320-8794-802e371755cb",
   "metadata": {},
   "outputs": [],
   "source": []
  },
  {
   "cell_type": "code",
   "execution_count": null,
   "id": "af14881e-be7d-46e8-a550-57302760451c",
   "metadata": {},
   "outputs": [],
   "source": []
  }
 ],
 "metadata": {
  "kernelspec": {
   "display_name": "Python 3 (ipykernel)",
   "language": "python",
   "name": "python3"
  },
  "language_info": {
   "codemirror_mode": {
    "name": "ipython",
    "version": 3
   },
   "file_extension": ".py",
   "mimetype": "text/x-python",
   "name": "python",
   "nbconvert_exporter": "python",
   "pygments_lexer": "ipython3",
   "version": "3.11.5"
  }
 },
 "nbformat": 4,
 "nbformat_minor": 5
}
