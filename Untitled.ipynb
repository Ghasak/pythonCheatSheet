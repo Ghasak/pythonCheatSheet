{
 "cells": [
  {
   "cell_type": "markdown",
   "id": "69c45bb5-0011-4c7d-8ceb-5266c1988449",
   "metadata": {},
   "source": [
    "# "
   ]
  },
  {
   "cell_type": "code",
   "execution_count": 1,
   "id": "402fb85d-0223-4295-8d8e-5ace222a1b38",
   "metadata": {
    "execution": {
     "iopub.execute_input": "2024-09-30T01:53:10.327646Z",
     "iopub.status.busy": "2024-09-30T01:53:10.327318Z",
     "iopub.status.idle": "2024-09-30T01:53:10.462808Z",
     "shell.execute_reply": "2024-09-30T01:53:10.461980Z",
     "shell.execute_reply.started": "2024-09-30T01:53:10.327620Z"
    }
   },
   "outputs": [
    {
     "name": "stdout",
     "output_type": "stream",
     "text": [
      "/Users/gmbp/Desktop/devCode/pythonHub/pythonCheatSheet\n"
     ]
    }
   ],
   "source": []
  },
  {
   "cell_type": "code",
   "execution_count": 3,
   "id": "aac88d0b-8e0e-4dca-8826-ef7ecfe65d2c",
   "metadata": {
    "execution": {
     "iopub.execute_input": "2024-09-30T01:53:34.881271Z",
     "iopub.status.busy": "2024-09-30T01:53:34.880819Z",
     "iopub.status.idle": "2024-09-30T01:53:34.883660Z",
     "shell.execute_reply": "2024-09-30T01:53:34.883174Z",
     "shell.execute_reply.started": "2024-09-30T01:53:34.881245Z"
    }
   },
   "outputs": [],
   "source": [
    "import os\n",
    "import sys"
   ]
  },
  {
   "cell_type": "code",
   "execution_count": 5,
   "id": "6309c962-5cce-4a32-a018-f13057ded863",
   "metadata": {
    "execution": {
     "iopub.execute_input": "2024-09-30T01:53:55.044663Z",
     "iopub.status.busy": "2024-09-30T01:53:55.043513Z",
     "iopub.status.idle": "2024-09-30T01:53:55.050377Z",
     "shell.execute_reply": "2024-09-30T01:53:55.049866Z",
     "shell.execute_reply.started": "2024-09-30T01:53:55.044602Z"
    }
   },
   "outputs": [
    {
     "data": {
      "text/plain": [
       "'/Users/gmbp/Desktop/devCode/pythonHub/pythonCheatSheet'"
      ]
     },
     "execution_count": 5,
     "metadata": {},
     "output_type": "execute_result"
    }
   ],
   "source": [
    "os.getcwd()"
   ]
  },
  {
   "cell_type": "code",
   "execution_count": 8,
   "id": "d54d2b76-5298-4e3f-9bcb-7f60e524acd2",
   "metadata": {
    "execution": {
     "iopub.execute_input": "2024-09-30T01:54:34.521692Z",
     "iopub.status.busy": "2024-09-30T01:54:34.520353Z",
     "iopub.status.idle": "2024-09-30T01:54:34.537128Z",
     "shell.execute_reply": "2024-09-30T01:54:34.536294Z",
     "shell.execute_reply.started": "2024-09-30T01:54:34.521060Z"
    }
   },
   "outputs": [
    {
     "data": {
      "text/plain": [
       "'/Users/gmbp/Desktop/devCode/pythonHub/pythonCheatSheet'"
      ]
     },
     "execution_count": 8,
     "metadata": {},
     "output_type": "execute_result"
    }
   ],
   "source": [
    "os.path.abspath(os.getcwd())"
   ]
  },
  {
   "cell_type": "code",
   "execution_count": 15,
   "id": "188c430b-7d7f-4e86-b4f8-92a5da429d33",
   "metadata": {
    "execution": {
     "iopub.execute_input": "2024-09-30T02:24:55.357111Z",
     "iopub.status.busy": "2024-09-30T02:24:55.356625Z",
     "iopub.status.idle": "2024-09-30T02:24:55.362385Z",
     "shell.execute_reply": "2024-09-30T02:24:55.361695Z",
     "shell.execute_reply.started": "2024-09-30T02:24:55.357076Z"
    }
   },
   "outputs": [
    {
     "data": {
      "text/plain": [
       "':/Users/gmbp/Desktop/devCode/pythonHub/pythonCheatSheet:/Users/gmbp/Desktop/devCode/pythonHub/pythonCheatSheet/develop/:/Users/gmbp/Desktop/devCode/pythonHub/pythonCheatSheet/develop/src:/Users/gmbp/Desktop/devCode/pythonHub/pythonCheatSheet/services/:/Users/gmbp/Desktop/devCode/pythonHub/pythonCheatSheet/services/src:/Users/gmbp/Desktop/devCode/pythonHub/pythonCheatSheet/src/lib'"
      ]
     },
     "execution_count": 15,
     "metadata": {},
     "output_type": "execute_result"
    }
   ],
   "source": [
    "os.environ[\"PYTHONPATH\"]"
   ]
  },
  {
   "cell_type": "code",
   "execution_count": 18,
   "id": "a8a1fb21-6f86-4d09-8953-32ff3adbf132",
   "metadata": {
    "execution": {
     "iopub.execute_input": "2024-09-30T02:26:29.177149Z",
     "iopub.status.busy": "2024-09-30T02:26:29.175641Z",
     "iopub.status.idle": "2024-09-30T02:26:29.188937Z",
     "shell.execute_reply": "2024-09-30T02:26:29.187796Z",
     "shell.execute_reply.started": "2024-09-30T02:26:29.177093Z"
    }
   },
   "outputs": [
    {
     "data": {
      "text/plain": [
       "'/Users/gmbp/Desktop/devCode/pythonHub/pythonCheatSheet'"
      ]
     },
     "execution_count": 18,
     "metadata": {},
     "output_type": "execute_result"
    }
   ],
   "source": [
    "os.path.dirname(os.path.abspath(__name__))"
   ]
  },
  {
   "cell_type": "code",
   "execution_count": null,
   "id": "4f369ed1-3f88-4541-a2fd-00f9100fc372",
   "metadata": {},
   "outputs": [],
   "source": []
  },
  {
   "cell_type": "code",
   "execution_count": null,
   "id": "22af9657-5cc7-4bb3-b127-7a0fbf2467fd",
   "metadata": {},
   "outputs": [],
   "source": []
  },
  {
   "cell_type": "code",
   "execution_count": null,
   "id": "b7f96652-8c49-4c4f-82a5-1d4425398553",
   "metadata": {},
   "outputs": [],
   "source": []
  },
  {
   "cell_type": "code",
   "execution_count": null,
   "id": "9138704d-24ab-4908-a2cf-39ed8f2ebde0",
   "metadata": {},
   "outputs": [],
   "source": []
  },
  {
   "cell_type": "code",
   "execution_count": null,
   "id": "23ce8257-b706-4e21-bef5-8db7a6630470",
   "metadata": {},
   "outputs": [],
   "source": []
  }
 ],
 "metadata": {
  "kernelspec": {
   "display_name": "Python 3 (ipykernel)",
   "language": "python",
   "name": "python3"
  },
  "language_info": {
   "codemirror_mode": {
    "name": "ipython",
    "version": 3
   },
   "file_extension": ".py",
   "mimetype": "text/x-python",
   "name": "python",
   "nbconvert_exporter": "python",
   "pygments_lexer": "ipython3",
   "version": "3.11.5"
  }
 },
 "nbformat": 4,
 "nbformat_minor": 5
}
